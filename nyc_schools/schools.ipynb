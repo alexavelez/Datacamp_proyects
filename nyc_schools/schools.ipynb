{
 "cells": [
  {
   "cell_type": "markdown",
   "id": "0ec2c45b-4ec7-4f78-b9e8-e492160ee6fc",
   "metadata": {},
   "source": [
    "Which NYC schools have the best math results?\n",
    "\n",
    "The best math results are at least 80% of the *maximum possible score of 800* for math.\n",
    "Save your results in a pandas DataFrame called best_math_schools, including \"school_name\" and \"average_math\" columns, sorted by \"average_math\" in descending order."
   ]
  },
  {
   "cell_type": "code",
   "execution_count": 119,
   "id": "626fb694-8c46-4d45-9895-7d318ddb5d78",
   "metadata": {},
   "outputs": [
    {
     "data": {
      "text/html": [
       "<div>\n",
       "<style scoped>\n",
       "    .dataframe tbody tr th:only-of-type {\n",
       "        vertical-align: middle;\n",
       "    }\n",
       "\n",
       "    .dataframe tbody tr th {\n",
       "        vertical-align: top;\n",
       "    }\n",
       "\n",
       "    .dataframe thead th {\n",
       "        text-align: right;\n",
       "    }\n",
       "</style>\n",
       "<table border=\"1\" class=\"dataframe\">\n",
       "  <thead>\n",
       "    <tr style=\"text-align: right;\">\n",
       "      <th></th>\n",
       "      <th>school_name</th>\n",
       "      <th>borough</th>\n",
       "      <th>building_code</th>\n",
       "      <th>average_math</th>\n",
       "      <th>average_reading</th>\n",
       "      <th>average_writing</th>\n",
       "      <th>percent_tested</th>\n",
       "    </tr>\n",
       "  </thead>\n",
       "  <tbody>\n",
       "    <tr>\n",
       "      <th>0</th>\n",
       "      <td>New Explorations into Science, Technology and ...</td>\n",
       "      <td>Manhattan</td>\n",
       "      <td>M022</td>\n",
       "      <td>657</td>\n",
       "      <td>601</td>\n",
       "      <td>601</td>\n",
       "      <td>NaN</td>\n",
       "    </tr>\n",
       "    <tr>\n",
       "      <th>1</th>\n",
       "      <td>Essex Street Academy</td>\n",
       "      <td>Manhattan</td>\n",
       "      <td>M445</td>\n",
       "      <td>395</td>\n",
       "      <td>411</td>\n",
       "      <td>387</td>\n",
       "      <td>78.9</td>\n",
       "    </tr>\n",
       "    <tr>\n",
       "      <th>2</th>\n",
       "      <td>Lower Manhattan Arts Academy</td>\n",
       "      <td>Manhattan</td>\n",
       "      <td>M445</td>\n",
       "      <td>418</td>\n",
       "      <td>428</td>\n",
       "      <td>415</td>\n",
       "      <td>65.1</td>\n",
       "    </tr>\n",
       "    <tr>\n",
       "      <th>3</th>\n",
       "      <td>High School for Dual Language and Asian Studies</td>\n",
       "      <td>Manhattan</td>\n",
       "      <td>M445</td>\n",
       "      <td>613</td>\n",
       "      <td>453</td>\n",
       "      <td>463</td>\n",
       "      <td>95.9</td>\n",
       "    </tr>\n",
       "    <tr>\n",
       "      <th>4</th>\n",
       "      <td>Henry Street School for International Studies</td>\n",
       "      <td>Manhattan</td>\n",
       "      <td>M056</td>\n",
       "      <td>410</td>\n",
       "      <td>406</td>\n",
       "      <td>381</td>\n",
       "      <td>59.7</td>\n",
       "    </tr>\n",
       "  </tbody>\n",
       "</table>\n",
       "</div>"
      ],
      "text/plain": [
       "                                         school_name    borough building_code  \\\n",
       "0  New Explorations into Science, Technology and ...  Manhattan          M022   \n",
       "1                               Essex Street Academy  Manhattan          M445   \n",
       "2                       Lower Manhattan Arts Academy  Manhattan          M445   \n",
       "3    High School for Dual Language and Asian Studies  Manhattan          M445   \n",
       "4      Henry Street School for International Studies  Manhattan          M056   \n",
       "\n",
       "   average_math  average_reading  average_writing  percent_tested  \n",
       "0           657              601              601             NaN  \n",
       "1           395              411              387            78.9  \n",
       "2           418              428              415            65.1  \n",
       "3           613              453              463            95.9  \n",
       "4           410              406              381            59.7  "
      ]
     },
     "execution_count": 119,
     "metadata": {},
     "output_type": "execute_result"
    }
   ],
   "source": [
    "import pandas as pd\n",
    "import matplotlib.pyplot as plt\n",
    "\n",
    "# Read in the data\n",
    "schools = pd.read_csv(\"schools.csv\")\n",
    "\n",
    "# Preview the data\n",
    "schools.head()\n"
   ]
  },
  {
   "cell_type": "code",
   "execution_count": 120,
   "id": "6531b4ef-1258-4bfb-b7f0-673fd709b69d",
   "metadata": {},
   "outputs": [
    {
     "name": "stdout",
     "output_type": "stream",
     "text": [
      "<class 'pandas.core.frame.DataFrame'>\n",
      "RangeIndex: 375 entries, 0 to 374\n",
      "Data columns (total 7 columns):\n",
      " #   Column           Non-Null Count  Dtype  \n",
      "---  ------           --------------  -----  \n",
      " 0   school_name      375 non-null    object \n",
      " 1   borough          375 non-null    object \n",
      " 2   building_code    375 non-null    object \n",
      " 3   average_math     375 non-null    int64  \n",
      " 4   average_reading  375 non-null    int64  \n",
      " 5   average_writing  375 non-null    int64  \n",
      " 6   percent_tested   355 non-null    float64\n",
      "dtypes: float64(1), int64(3), object(3)\n",
      "memory usage: 20.6+ KB\n"
     ]
    }
   ],
   "source": [
    "schools.info()"
   ]
  },
  {
   "cell_type": "code",
   "execution_count": 121,
   "id": "e7937a08-6462-4d7c-b15b-53f0fb0d1d1f",
   "metadata": {},
   "outputs": [
    {
     "data": {
      "text/html": [
       "<div>\n",
       "<style scoped>\n",
       "    .dataframe tbody tr th:only-of-type {\n",
       "        vertical-align: middle;\n",
       "    }\n",
       "\n",
       "    .dataframe tbody tr th {\n",
       "        vertical-align: top;\n",
       "    }\n",
       "\n",
       "    .dataframe thead th {\n",
       "        text-align: right;\n",
       "    }\n",
       "</style>\n",
       "<table border=\"1\" class=\"dataframe\">\n",
       "  <thead>\n",
       "    <tr style=\"text-align: right;\">\n",
       "      <th></th>\n",
       "      <th>average_math</th>\n",
       "      <th>average_reading</th>\n",
       "      <th>average_writing</th>\n",
       "      <th>percent_tested</th>\n",
       "    </tr>\n",
       "  </thead>\n",
       "  <tbody>\n",
       "    <tr>\n",
       "      <th>count</th>\n",
       "      <td>375.000000</td>\n",
       "      <td>375.000000</td>\n",
       "      <td>375.000000</td>\n",
       "      <td>355.000000</td>\n",
       "    </tr>\n",
       "    <tr>\n",
       "      <th>mean</th>\n",
       "      <td>432.944000</td>\n",
       "      <td>424.504000</td>\n",
       "      <td>418.458667</td>\n",
       "      <td>64.976338</td>\n",
       "    </tr>\n",
       "    <tr>\n",
       "      <th>std</th>\n",
       "      <td>71.952373</td>\n",
       "      <td>61.881069</td>\n",
       "      <td>64.548599</td>\n",
       "      <td>18.747634</td>\n",
       "    </tr>\n",
       "    <tr>\n",
       "      <th>min</th>\n",
       "      <td>317.000000</td>\n",
       "      <td>302.000000</td>\n",
       "      <td>284.000000</td>\n",
       "      <td>18.500000</td>\n",
       "    </tr>\n",
       "    <tr>\n",
       "      <th>25%</th>\n",
       "      <td>386.000000</td>\n",
       "      <td>386.000000</td>\n",
       "      <td>382.000000</td>\n",
       "      <td>50.950000</td>\n",
       "    </tr>\n",
       "    <tr>\n",
       "      <th>50%</th>\n",
       "      <td>415.000000</td>\n",
       "      <td>413.000000</td>\n",
       "      <td>403.000000</td>\n",
       "      <td>64.800000</td>\n",
       "    </tr>\n",
       "    <tr>\n",
       "      <th>75%</th>\n",
       "      <td>458.500000</td>\n",
       "      <td>445.000000</td>\n",
       "      <td>437.500000</td>\n",
       "      <td>79.600000</td>\n",
       "    </tr>\n",
       "    <tr>\n",
       "      <th>max</th>\n",
       "      <td>754.000000</td>\n",
       "      <td>697.000000</td>\n",
       "      <td>693.000000</td>\n",
       "      <td>100.000000</td>\n",
       "    </tr>\n",
       "  </tbody>\n",
       "</table>\n",
       "</div>"
      ],
      "text/plain": [
       "       average_math  average_reading  average_writing  percent_tested\n",
       "count    375.000000       375.000000       375.000000      355.000000\n",
       "mean     432.944000       424.504000       418.458667       64.976338\n",
       "std       71.952373        61.881069        64.548599       18.747634\n",
       "min      317.000000       302.000000       284.000000       18.500000\n",
       "25%      386.000000       386.000000       382.000000       50.950000\n",
       "50%      415.000000       413.000000       403.000000       64.800000\n",
       "75%      458.500000       445.000000       437.500000       79.600000\n",
       "max      754.000000       697.000000       693.000000      100.000000"
      ]
     },
     "execution_count": 121,
     "metadata": {},
     "output_type": "execute_result"
    }
   ],
   "source": [
    "schools.describe()"
   ]
  },
  {
   "cell_type": "markdown",
   "id": "beeb649e-6014-45b4-a85d-390f1a2d601c",
   "metadata": {},
   "source": [
    "A basic exploration of the schools DataFrame shows 375 rows, 8 columns, and no null values. The average math, reading, and writing scores are 432.94, 424.50, and 418.45, respectively. The max and min values for average math, reading, and writing scores do not show any values above or below what is expected for the test (the maximum possible score is 800). However, there is noticeable variability in the percentage tested between schools, with percentages as low as 18.5%, as high as 100%, and a median of 64.8%, which probably needs further investigation. "
   ]
  },
  {
   "cell_type": "markdown",
   "id": "58af4bd6-a2a5-4726-92d0-4ef7352f62c7",
   "metadata": {},
   "source": [
    "Subsetting schools with at least 80% of the maximum possible score of 800 for math, that is 640."
   ]
  },
  {
   "cell_type": "code",
   "execution_count": 124,
   "id": "74ffbd44-9283-4420-bad4-3e0ecc348d28",
   "metadata": {},
   "outputs": [
    {
     "name": "stdout",
     "output_type": "stream",
     "text": [
      "                                           school_name        borough  \\\n",
      "0    New Explorations into Science, Technology and ...      Manhattan   \n",
      "45                       Eleanor Roosevelt High School      Manhattan   \n",
      "68   High School for Mathematics, Science, and Engi...      Manhattan   \n",
      "88                              Stuyvesant High School      Manhattan   \n",
      "93                 Staten Island Technical High School  Staten Island   \n",
      "170                       Bronx High School of Science          Bronx   \n",
      "174  High School of American Studies at Lehman College          Bronx   \n",
      "280                     Brooklyn Technical High School       Brooklyn   \n",
      "333                        Townsend Harris High School         Queens   \n",
      "365  Queens High School for the Sciences at York Co...         Queens   \n",
      "\n",
      "    building_code  average_math  average_reading  average_writing  \\\n",
      "0            M022           657              601              601   \n",
      "45           M855           641              617              631   \n",
      "68           M812           683              610              596   \n",
      "88           M477           754              697              693   \n",
      "93           R440           711              660              670   \n",
      "170          X445           714              660              667   \n",
      "174          X905           669              672              672   \n",
      "280          K430           682              608              606   \n",
      "333          Q515           680              640              661   \n",
      "365          Q774           701              621              625   \n",
      "\n",
      "     percent_tested  \n",
      "0               NaN  \n",
      "45             86.0  \n",
      "68             92.6  \n",
      "88             97.4  \n",
      "93             99.7  \n",
      "170            97.0  \n",
      "174            91.8  \n",
      "280            95.5  \n",
      "333            97.1  \n",
      "365            97.9  \n"
     ]
    }
   ],
   "source": [
    "math_score_over_80p = schools[schools[\"average_math\"] >= 640]\n",
    "print(math_score_over_80p)"
   ]
  },
  {
   "cell_type": "markdown",
   "id": "cf8fa2d2-42ed-450a-97d5-caf6e43abca6",
   "metadata": {},
   "source": [
    "Creating a data frame with school_name and average_math for schools with scores at least 80% of the maximum possible score, and sorting the data frame by average_math"
   ]
  },
  {
   "cell_type": "code",
   "execution_count": 126,
   "id": "6e7dfaae-a5e9-4cb2-904c-c4e975c6c297",
   "metadata": {},
   "outputs": [
    {
     "name": "stdout",
     "output_type": "stream",
     "text": [
      "                                           school_name  average_math\n",
      "88                              Stuyvesant High School           754\n",
      "170                       Bronx High School of Science           714\n",
      "93                 Staten Island Technical High School           711\n",
      "365  Queens High School for the Sciences at York Co...           701\n",
      "68   High School for Mathematics, Science, and Engi...           683\n",
      "280                     Brooklyn Technical High School           682\n",
      "333                        Townsend Harris High School           680\n",
      "174  High School of American Studies at Lehman College           669\n",
      "0    New Explorations into Science, Technology and ...           657\n",
      "45                       Eleanor Roosevelt High School           641\n"
     ]
    }
   ],
   "source": [
    "best_math_schools = math_score_over_80p[[\"school_name\", \"average_math\"]].sort_values(\"average_math\", ascending = False)\n",
    "print(best_math_schools)"
   ]
  },
  {
   "cell_type": "markdown",
   "id": "76c01395-94c0-4a89-9f62-07ca81538f56",
   "metadata": {},
   "source": [
    "What are the top 10 performing schools based on the combined SAT scores?\n",
    "\n",
    "Save your results as a pandas DataFrame called top_10_schools containing the \"school_name\" and a new column named \"total_SAT\", with results ordered by \"total_SAT\" in descending order (\"total_SAT\" being the sum of math, reading, and writing scores)."
   ]
  },
  {
   "cell_type": "markdown",
   "id": "b13a08ce-e18d-481e-8900-d3854c3d9523",
   "metadata": {},
   "source": [
    "Adding a new column with total_SAT with the sum of the averages for math, reading and writing"
   ]
  },
  {
   "cell_type": "code",
   "execution_count": 129,
   "id": "d01ea504-4dd5-4341-b0e4-d946086fb662",
   "metadata": {},
   "outputs": [
    {
     "name": "stdout",
     "output_type": "stream",
     "text": [
      "                                           school_name    borough  \\\n",
      "0    New Explorations into Science, Technology and ...  Manhattan   \n",
      "1                                 Essex Street Academy  Manhattan   \n",
      "2                         Lower Manhattan Arts Academy  Manhattan   \n",
      "3      High School for Dual Language and Asian Studies  Manhattan   \n",
      "4        Henry Street School for International Studies  Manhattan   \n",
      "..                                                 ...        ...   \n",
      "370  Queens High School for Information, Research, ...     Queens   \n",
      "371  Rockaway Park High School for Environmental Su...     Queens   \n",
      "372                   Channel View School for Research     Queens   \n",
      "373                    Rockaway Collegiate High School     Queens   \n",
      "374                                  Scholars' Academy     Queens   \n",
      "\n",
      "    building_code  average_math  average_reading  average_writing  \\\n",
      "0            M022           657              601              601   \n",
      "1            M445           395              411              387   \n",
      "2            M445           418              428              415   \n",
      "3            M445           613              453              463   \n",
      "4            M056           410              406              381   \n",
      "..            ...           ...              ...              ...   \n",
      "370          Q465           372              362              352   \n",
      "371          Q410           357              381              376   \n",
      "372          Q410           427              430              423   \n",
      "373          Q410           399              403              405   \n",
      "374          Q180           588              560              568   \n",
      "\n",
      "     percent_tested  total_SAT  \n",
      "0               NaN       1859  \n",
      "1              78.9       1193  \n",
      "2              65.1       1261  \n",
      "3              95.9       1529  \n",
      "4              59.7       1197  \n",
      "..              ...        ...  \n",
      "370            44.6       1086  \n",
      "371            38.5       1114  \n",
      "372            76.6       1280  \n",
      "373            46.5       1207  \n",
      "374            99.2       1716  \n",
      "\n",
      "[375 rows x 8 columns]\n"
     ]
    }
   ],
   "source": [
    "schools[\"total_SAT\"] = schools[[\"average_math\", \"average_reading\", \"average_writing\"]].sum(axis=1)\n",
    "print(schools)"
   ]
  },
  {
   "cell_type": "code",
   "execution_count": 130,
   "id": "02333a0f-0f74-451d-ab9e-cef689b3c2d6",
   "metadata": {},
   "outputs": [
    {
     "name": "stdout",
     "output_type": "stream",
     "text": [
      "Index(['school_name', 'borough', 'building_code', 'average_math',\n",
      "       'average_reading', 'average_writing', 'percent_tested', 'total_SAT'],\n",
      "      dtype='object')\n"
     ]
    }
   ],
   "source": [
    "print(schools.columns)"
   ]
  },
  {
   "cell_type": "code",
   "execution_count": 131,
   "id": "989269df-aa3a-4377-afae-a3a7537fee76",
   "metadata": {},
   "outputs": [
    {
     "name": "stdout",
     "output_type": "stream",
     "text": [
      "                                           school_name  total_SAT\n",
      "88                              Stuyvesant High School       2144\n",
      "170                       Bronx High School of Science       2041\n",
      "93                 Staten Island Technical High School       2041\n",
      "174  High School of American Studies at Lehman College       2013\n",
      "333                        Townsend Harris High School       1981\n",
      "365  Queens High School for the Sciences at York Co...       1947\n",
      "5                       Bard High School Early College       1914\n",
      "280                     Brooklyn Technical High School       1896\n",
      "45                       Eleanor Roosevelt High School       1889\n",
      "68   High School for Mathematics, Science, and Engi...       1889\n"
     ]
    }
   ],
   "source": [
    "top_10_schools = schools[[\"school_name\", \"total_SAT\"]].sort_values(\"total_SAT\", ascending = False).head(10)\n",
    "print(top_10_schools)"
   ]
  },
  {
   "cell_type": "markdown",
   "id": "dc2f73af-0d4d-4110-86cf-6cef6c88d95d",
   "metadata": {},
   "source": [
    "Which single borough has the largest standard deviation in the combined SAT score?\n",
    "\n",
    "Save your results as a pandas DataFrame called largest_std_dev.\n",
    "The DataFrame should contain one row, with:\n",
    "\"borough\" - the name of the NYC borough with the largest standard deviation of \"total_SAT\".\n",
    "\"num_schools\" - the number of schools in the borough.\n",
    "\"average_SAT\" - the mean of \"total_SAT\".\n",
    "\"std_SAT\" - the standard deviation of \"total_SAT\".\n",
    "Round all numeric values to two decimal places."
   ]
  },
  {
   "cell_type": "code",
   "execution_count": 133,
   "id": "13c9794d-62cd-4d32-aa2b-e48bd9305a81",
   "metadata": {},
   "outputs": [
    {
     "name": "stdout",
     "output_type": "stream",
     "text": [
      "              total_SAT                 \n",
      "                  count     mean     std\n",
      "borough                                 \n",
      "Bronx                98  1202.72  150.39\n",
      "Brooklyn            109  1230.26  154.87\n",
      "Manhattan            89  1340.13  230.29\n",
      "Queens               69  1345.48  195.25\n",
      "Staten Island        10  1439.00  222.30\n",
      "MultiIndex([('total_SAT', 'count'),\n",
      "            ('total_SAT',  'mean'),\n",
      "            ('total_SAT',   'std')],\n",
      "           )\n",
      "<class 'pandas.core.frame.DataFrame'>\n"
     ]
    }
   ],
   "source": [
    "schools_total_SAT_mean_std = schools.groupby(\"borough\")[[\"total_SAT\"]].agg([\"count\", \"mean\", \"std\"]).round(2)\n",
    "print(schools_total_SAT_mean_std)\n",
    "print(schools_total_SAT_mean_std.columns)\n",
    "print(type(schools_total_SAT_mean_std))"
   ]
  },
  {
   "cell_type": "markdown",
   "id": "05cb7a21-6ed0-403c-8b5b-e6e0b6d0eff5",
   "metadata": {},
   "source": [
    "The groupby and agg functions worked great. However, the DataFrame I got has a MultiIndex on the columns because of the agg function. According to Pandas documentation, if the DataFrame has a MultiIndex, the .reset_index() method can remove one or more levels. Nevertheless, I didn't get exactly the result that I needed, so I decided to use a different approach:"
   ]
  },
  {
   "cell_type": "code",
   "execution_count": 135,
   "id": "89b59339-0af5-4394-9fa2-b7be1527771c",
   "metadata": {},
   "outputs": [
    {
     "name": "stdout",
     "output_type": "stream",
     "text": [
      "               total_SAT_count  total_SAT_mean  total_SAT_std\n",
      "borough                                                      \n",
      "Bronx                       98         1202.72         150.39\n",
      "Brooklyn                   109         1230.26         154.87\n",
      "Manhattan                   89         1340.13         230.29\n",
      "Queens                      69         1345.48         195.25\n",
      "Staten Island               10         1439.00         222.30\n"
     ]
    }
   ],
   "source": [
    "schools_total_SAT_mean_std.columns = ['_'.join(col).strip() for col in schools_total_SAT_mean_std.columns.values]\n",
    "print(schools_total_SAT_mean_std)"
   ]
  },
  {
   "cell_type": "markdown",
   "id": "3184f02a-8dcb-4e1a-9aad-4a9502a22397",
   "metadata": {},
   "source": [
    "This line takes the MultiIndex columns of the DataFrame and flattens them into a single-level list of column names, making them easier to work with. Step-by-step explanation:\n",
    "1. schools_total_SAT_mean_std.columns: This accesses the column names of the DataFrame, which are in a MultiIndex format after the agg function.\n",
    "2. schools_total_SAT_mean_std.columns.values: This retrieves the actual column names as an array of tuples (because it's a MultiIndex). For example, (\"total_SAT\", \"mean\") and (\"total_SAT\", \"std\").\n",
    "3. List comprehension:\n",
    "* for col in schools_total_SAT_mean_std.columns.values: loops through each column name, where col is a tuple like (\"total_SAT\", \"mean\").\n",
    "* '_'.join(col): This takes each tuple (e.g., (\"total_SAT\", \"mean\")) and joins the parts using an underscore _. So, the tuple becomes \"total_SAT_mean\". This is why it flattens the columns.\n",
    ".strip(): This removes any leading or trailing whitespace that might exist (though in most cases there won’t be any, but it's a good practice to ensure cleanliness).\n",
    "\n",
    "Now, I can rename the columns:"
   ]
  },
  {
   "cell_type": "code",
   "execution_count": 137,
   "id": "74a064f4-4291-4d09-8388-a45169593de3",
   "metadata": {},
   "outputs": [
    {
     "name": "stdout",
     "output_type": "stream",
     "text": [
      "               num_schools  average_SAT  std_SAT\n",
      "borough                                         \n",
      "Bronx                   98      1202.72   150.39\n",
      "Brooklyn               109      1230.26   154.87\n",
      "Manhattan               89      1340.13   230.29\n",
      "Queens                  69      1345.48   195.25\n",
      "Staten Island           10      1439.00   222.30\n"
     ]
    }
   ],
   "source": [
    "schools_total_SAT_mean_std = schools_total_SAT_mean_std.rename(columns={\n",
    "    \"borough\": \"borough\",\n",
    "    \"total_SAT_count\": \"num_schools\",\n",
    "    \"total_SAT_mean\": \"average_SAT\",\n",
    "    \"total_SAT_std\": \"std_SAT\"\n",
    "})\n",
    "print(schools_total_SAT_mean_std)"
   ]
  },
  {
   "cell_type": "markdown",
   "id": "956a0e1e-418e-46c8-bf00-94743ef0ba9f",
   "metadata": {},
   "source": [
    "A bar chart can illustrate the average and standard deviation of combined SAT scores by borough:\n",
    "We can see that Manhattan and Staten Island have the largest standard deviations, whereas Staten Island and Queens have the highest combined average SAT scores. "
   ]
  },
  {
   "cell_type": "code",
   "execution_count": 155,
   "id": "2ecde8e0-b482-4847-bfe5-c2dda1e8506a",
   "metadata": {},
   "outputs": [
    {
     "data": {
      "image/png": "[encoded data removed]",
      "text/plain": [
       "<Figure size 640x480 with 1 Axes>"
      ]
     },
     "metadata": {},
     "output_type": "display_data"
    }
   ],
   "source": [
    "graph_1_df = schools_total_SAT_mean_std.reset_index(drop = False)\n",
    "graph_1_df.plot(kind='bar', x=\"borough\", y='average_SAT', yerr='std_SAT', rot=0, title=\"Average and Standard Deviation of Combined SAT Scores by NYC Borough\")\n",
    "plt.xlabel(\"Borough\")\n",
    "plt.ylabel(\"Average Combined SAT\")\n",
    "plt.legend(bbox_to_anchor=(1.05, 1), loc='upper left')\n",
    "plt.show()\n"
   ]
  },
  {
   "cell_type": "markdown",
   "id": "3f3dcffd-da9d-4ba3-bf4e-8251d352c9d7",
   "metadata": {},
   "source": [
    "To answer the question, the borough that has the largest standard deviation in the combined SAT score is:"
   ]
  },
  {
   "cell_type": "code",
   "execution_count": 157,
   "id": "e69a62d6-f337-4258-b85b-86252d7dfb6c",
   "metadata": {},
   "outputs": [
    {
     "name": "stdout",
     "output_type": "stream",
     "text": [
      "           num_schools  average_SAT  std_SAT\n",
      "borough                                     \n",
      "Manhattan           89      1340.13   230.29\n"
     ]
    }
   ],
   "source": [
    "largest_std_dev = schools_total_SAT_mean_std.sort_values(\"std_SAT\", ascending = False).head(1)\n",
    "print(largest_std_dev)"
   ]
  }
 ],
 "metadata": {
  "kernelspec": {
   "display_name": "Python 3 (ipykernel)",
   "language": "python",
   "name": "python3"
  },
  "language_info": {
   "codemirror_mode": {
    "name": "ipython",
    "version": 3
   },
   "file_extension": ".py",
   "mimetype": "text/x-python",
   "name": "python",
   "nbconvert_exporter": "python",
   "pygments_lexer": "ipython3",
   "version": "3.11.5"
  }
 },
 "nbformat": 4,
 "nbformat_minor": 5
}

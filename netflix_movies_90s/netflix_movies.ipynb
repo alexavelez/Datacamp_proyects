{
 "cells": [
  {
   "cell_type": "markdown",
   "id": "ed594d0e-78aa-4e92-b98a-7038df960d06",
   "metadata": {},
   "source": [
    "<center><img src=\"redpopcorn.jpg\"></center>"
   ]
  },
  {
   "cell_type": "markdown",
   "id": "c85eeb88-73a6-40e7-8fa9-c3e2b387f611",
   "metadata": {},
   "source": [
    "# **Netflix**! \n",
    "What started in 1997 as a DVD rental service has since exploded into one of the largest entertainment and media companies.\n",
    "\n",
    "Given the large number of movies and series available on the platform, it is a perfect opportunity to flex your exploratory data analysis skills and dive into the entertainment industry.\n",
    "\n",
    "You work for a production company that specializes in nostalgic styles. You want to do some research on movies released in the 1990's. You'll delve into Netflix data and perform exploratory data analysis to better understand this awesome movie decade!\n",
    "\n",
    "You have been supplied with the dataset `netflix_data.csv`, along with the following table detailing the column names and descriptions. \n",
    "\n",
    "The analysis aimed to answer two key questions:\n",
    "\n",
    "What is the most common duration of movies from the 1990s?\n",
    "How many short action movies (with a runtime of less than 90 minutes) from the 1990s are in the dataset?\n",
    "\n",
    "## The data\n",
    "### **netflix_data.csv**\n",
    "| Column | Description |\n",
    "|--------|-------------|\n",
    "| `show_id` | The ID of the show |\n",
    "| `type` | Type of show |\n",
    "| `title` | Title of the show |\n",
    "| `director` | Director of the show |\n",
    "| `cast` | Cast of the show |\n",
    "| `country` | Country of origin |\n",
    "| `date_added` | Date added to Netflix |\n",
    "| `release_year` | Year of Netflix release |\n",
    "| `duration` | Duration of the show in minutes |\n",
    "| `description` | Description of the show |\n",
    "| `genre` | Show genre |"
   ]
  },
  {
   "cell_type": "markdown",
   "id": "efb363ae-6308-4456-9ac7-51fdd5e1af75",
   "metadata": {},
   "source": [
    "# Importing pandas and matplotlib\n",
    "import pandas as pd\n",
    "import matplotlib.pyplot as plt"
   ]
  },
  {
   "cell_type": "code",
   "execution_count": 27,
   "id": "e09f9970-63fc-4746-95a3-14642247dc24",
   "metadata": {},
   "outputs": [
    {
     "data": {
      "text/html": [
       "<div>\n",
       "<style scoped>\n",
       "    .dataframe tbody tr th:only-of-type {\n",
       "        vertical-align: middle;\n",
       "    }\n",
       "\n",
       "    .dataframe tbody tr th {\n",
       "        vertical-align: top;\n",
       "    }\n",
       "\n",
       "    .dataframe thead th {\n",
       "        text-align: right;\n",
       "    }\n",
       "</style>\n",
       "<table border=\"1\" class=\"dataframe\">\n",
       "  <thead>\n",
       "    <tr style=\"text-align: right;\">\n",
       "      <th></th>\n",
       "      <th>show_id</th>\n",
       "      <th>type</th>\n",
       "      <th>title</th>\n",
       "      <th>director</th>\n",
       "      <th>cast</th>\n",
       "      <th>country</th>\n",
       "      <th>date_added</th>\n",
       "      <th>release_year</th>\n",
       "      <th>duration</th>\n",
       "      <th>description</th>\n",
       "      <th>genre</th>\n",
       "    </tr>\n",
       "  </thead>\n",
       "  <tbody>\n",
       "    <tr>\n",
       "      <th>count</th>\n",
       "      <td>4812</td>\n",
       "      <td>4812</td>\n",
       "      <td>4812</td>\n",
       "      <td>4812</td>\n",
       "      <td>4812</td>\n",
       "      <td>4812</td>\n",
       "      <td>4812</td>\n",
       "      <td>4812.000000</td>\n",
       "      <td>4812.000000</td>\n",
       "      <td>4812</td>\n",
       "      <td>4812</td>\n",
       "    </tr>\n",
       "    <tr>\n",
       "      <th>unique</th>\n",
       "      <td>4812</td>\n",
       "      <td>2</td>\n",
       "      <td>4812</td>\n",
       "      <td>3615</td>\n",
       "      <td>4690</td>\n",
       "      <td>72</td>\n",
       "      <td>1292</td>\n",
       "      <td>NaN</td>\n",
       "      <td>NaN</td>\n",
       "      <td>4807</td>\n",
       "      <td>31</td>\n",
       "    </tr>\n",
       "    <tr>\n",
       "      <th>top</th>\n",
       "      <td>s2</td>\n",
       "      <td>Movie</td>\n",
       "      <td>7:19</td>\n",
       "      <td>Raúl Campos, Jan Suter</td>\n",
       "      <td>Samuel West</td>\n",
       "      <td>United States</td>\n",
       "      <td>January 1, 2020</td>\n",
       "      <td>NaN</td>\n",
       "      <td>NaN</td>\n",
       "      <td>A scheming matriarch plots to cut off her disa...</td>\n",
       "      <td>Dramas</td>\n",
       "    </tr>\n",
       "    <tr>\n",
       "      <th>freq</th>\n",
       "      <td>1</td>\n",
       "      <td>4677</td>\n",
       "      <td>1</td>\n",
       "      <td>18</td>\n",
       "      <td>10</td>\n",
       "      <td>1886</td>\n",
       "      <td>100</td>\n",
       "      <td>NaN</td>\n",
       "      <td>NaN</td>\n",
       "      <td>2</td>\n",
       "      <td>1343</td>\n",
       "    </tr>\n",
       "    <tr>\n",
       "      <th>mean</th>\n",
       "      <td>NaN</td>\n",
       "      <td>NaN</td>\n",
       "      <td>NaN</td>\n",
       "      <td>NaN</td>\n",
       "      <td>NaN</td>\n",
       "      <td>NaN</td>\n",
       "      <td>NaN</td>\n",
       "      <td>2012.711554</td>\n",
       "      <td>99.566708</td>\n",
       "      <td>NaN</td>\n",
       "      <td>NaN</td>\n",
       "    </tr>\n",
       "    <tr>\n",
       "      <th>std</th>\n",
       "      <td>NaN</td>\n",
       "      <td>NaN</td>\n",
       "      <td>NaN</td>\n",
       "      <td>NaN</td>\n",
       "      <td>NaN</td>\n",
       "      <td>NaN</td>\n",
       "      <td>NaN</td>\n",
       "      <td>9.517978</td>\n",
       "      <td>30.889305</td>\n",
       "      <td>NaN</td>\n",
       "      <td>NaN</td>\n",
       "    </tr>\n",
       "    <tr>\n",
       "      <th>min</th>\n",
       "      <td>NaN</td>\n",
       "      <td>NaN</td>\n",
       "      <td>NaN</td>\n",
       "      <td>NaN</td>\n",
       "      <td>NaN</td>\n",
       "      <td>NaN</td>\n",
       "      <td>NaN</td>\n",
       "      <td>1942.000000</td>\n",
       "      <td>1.000000</td>\n",
       "      <td>NaN</td>\n",
       "      <td>NaN</td>\n",
       "    </tr>\n",
       "    <tr>\n",
       "      <th>25%</th>\n",
       "      <td>NaN</td>\n",
       "      <td>NaN</td>\n",
       "      <td>NaN</td>\n",
       "      <td>NaN</td>\n",
       "      <td>NaN</td>\n",
       "      <td>NaN</td>\n",
       "      <td>NaN</td>\n",
       "      <td>2011.000000</td>\n",
       "      <td>88.000000</td>\n",
       "      <td>NaN</td>\n",
       "      <td>NaN</td>\n",
       "    </tr>\n",
       "    <tr>\n",
       "      <th>50%</th>\n",
       "      <td>NaN</td>\n",
       "      <td>NaN</td>\n",
       "      <td>NaN</td>\n",
       "      <td>NaN</td>\n",
       "      <td>NaN</td>\n",
       "      <td>NaN</td>\n",
       "      <td>NaN</td>\n",
       "      <td>2016.000000</td>\n",
       "      <td>99.000000</td>\n",
       "      <td>NaN</td>\n",
       "      <td>NaN</td>\n",
       "    </tr>\n",
       "    <tr>\n",
       "      <th>75%</th>\n",
       "      <td>NaN</td>\n",
       "      <td>NaN</td>\n",
       "      <td>NaN</td>\n",
       "      <td>NaN</td>\n",
       "      <td>NaN</td>\n",
       "      <td>NaN</td>\n",
       "      <td>NaN</td>\n",
       "      <td>2018.000000</td>\n",
       "      <td>116.000000</td>\n",
       "      <td>NaN</td>\n",
       "      <td>NaN</td>\n",
       "    </tr>\n",
       "    <tr>\n",
       "      <th>max</th>\n",
       "      <td>NaN</td>\n",
       "      <td>NaN</td>\n",
       "      <td>NaN</td>\n",
       "      <td>NaN</td>\n",
       "      <td>NaN</td>\n",
       "      <td>NaN</td>\n",
       "      <td>NaN</td>\n",
       "      <td>2021.000000</td>\n",
       "      <td>253.000000</td>\n",
       "      <td>NaN</td>\n",
       "      <td>NaN</td>\n",
       "    </tr>\n",
       "  </tbody>\n",
       "</table>\n",
       "</div>"
      ],
      "text/plain": [
       "       show_id   type title                director         cast  \\\n",
       "count     4812   4812  4812                    4812         4812   \n",
       "unique    4812      2  4812                    3615         4690   \n",
       "top         s2  Movie  7:19  Raúl Campos, Jan Suter  Samuel West   \n",
       "freq         1   4677     1                      18           10   \n",
       "mean       NaN    NaN   NaN                     NaN          NaN   \n",
       "std        NaN    NaN   NaN                     NaN          NaN   \n",
       "min        NaN    NaN   NaN                     NaN          NaN   \n",
       "25%        NaN    NaN   NaN                     NaN          NaN   \n",
       "50%        NaN    NaN   NaN                     NaN          NaN   \n",
       "75%        NaN    NaN   NaN                     NaN          NaN   \n",
       "max        NaN    NaN   NaN                     NaN          NaN   \n",
       "\n",
       "              country       date_added  release_year     duration  \\\n",
       "count            4812             4812   4812.000000  4812.000000   \n",
       "unique             72             1292           NaN          NaN   \n",
       "top     United States  January 1, 2020           NaN          NaN   \n",
       "freq             1886              100           NaN          NaN   \n",
       "mean              NaN              NaN   2012.711554    99.566708   \n",
       "std               NaN              NaN      9.517978    30.889305   \n",
       "min               NaN              NaN   1942.000000     1.000000   \n",
       "25%               NaN              NaN   2011.000000    88.000000   \n",
       "50%               NaN              NaN   2016.000000    99.000000   \n",
       "75%               NaN              NaN   2018.000000   116.000000   \n",
       "max               NaN              NaN   2021.000000   253.000000   \n",
       "\n",
       "                                              description   genre  \n",
       "count                                                4812    4812  \n",
       "unique                                               4807      31  \n",
       "top     A scheming matriarch plots to cut off her disa...  Dramas  \n",
       "freq                                                    2    1343  \n",
       "mean                                                  NaN     NaN  \n",
       "std                                                   NaN     NaN  \n",
       "min                                                   NaN     NaN  \n",
       "25%                                                   NaN     NaN  \n",
       "50%                                                   NaN     NaN  \n",
       "75%                                                   NaN     NaN  \n",
       "max                                                   NaN     NaN  "
      ]
     },
     "execution_count": 27,
     "metadata": {},
     "output_type": "execute_result"
    }
   ],
   "source": [
    "# Read in the Netflix CSV as a DataFrame, and use the describe method.\n",
    "netflix_df = pd.read_csv(\"netflix_data.csv\")\n",
    "netflix_df.describe(include='all')"
   ]
  },
  {
   "cell_type": "code",
   "execution_count": 29,
   "id": "5f2a47a0-3197-4627-bb4c-c67338a29a5b",
   "metadata": {},
   "outputs": [
    {
     "name": "stdout",
     "output_type": "stream",
     "text": [
      "<class 'pandas.core.frame.DataFrame'>\n",
      "RangeIndex: 4812 entries, 0 to 4811\n",
      "Data columns (total 11 columns):\n",
      " #   Column        Non-Null Count  Dtype \n",
      "---  ------        --------------  ----- \n",
      " 0   show_id       4812 non-null   object\n",
      " 1   type          4812 non-null   object\n",
      " 2   title         4812 non-null   object\n",
      " 3   director      4812 non-null   object\n",
      " 4   cast          4812 non-null   object\n",
      " 5   country       4812 non-null   object\n",
      " 6   date_added    4812 non-null   object\n",
      " 7   release_year  4812 non-null   int64 \n",
      " 8   duration      4812 non-null   int64 \n",
      " 9   description   4812 non-null   object\n",
      " 10  genre         4812 non-null   object\n",
      "dtypes: int64(2), object(9)\n",
      "memory usage: 413.7+ KB\n"
     ]
    }
   ],
   "source": [
    "netflix_df.info()"
   ]
  },
  {
   "cell_type": "markdown",
   "id": "e0535f80-28b7-4964-90ba-2c028580e910",
   "metadata": {},
   "source": [
    "The Netflix dataset contains 4,812 entries, each with a unique show_id. It consists of 10 columns, with two of them (release_year and duration) being integers, and the remaining eight as objects. None of the columns contain null values. The dataset includes only two types of shows, and the range of release years spans from 1942 to 2021, with a standard deviation of 9.5 years. The duration of the shows ranges from 1 minute to 253 minutes, with an average of 253 minutes.\n",
    "\n",
    "Additionally, when using the describe() method, the description column shows 4,807 unique descriptions across the 4,812 entries, indicating that there are 5 duplicated descriptions in the dataset. This can be verified with the duplicated method."
   ]
  },
  {
   "cell_type": "code",
   "execution_count": 49,
   "id": "6630d206-64c1-464f-af85-cac173cad959",
   "metadata": {},
   "outputs": [
    {
     "name": "stdout",
     "output_type": "stream",
     "text": [
      "5\n"
     ]
    }
   ],
   "source": [
    "duplicated_descriptions = netflix_df.duplicated(subset=['description']).sum()\n",
    "print(duplicated_descriptions)"
   ]
  },
  {
   "cell_type": "markdown",
   "id": "794852fe-c481-4e6b-bd3e-ea96d0b495ab",
   "metadata": {},
   "source": [
    "Get the index of the rows with the duplicated descriptions:"
   ]
  },
  {
   "cell_type": "code",
   "execution_count": 71,
   "id": "587e47e4-9f92-44e8-b405-d18a3e4fe98b",
   "metadata": {},
   "outputs": [
    {
     "data": {
      "text/plain": [
       "[848, 849, 952, 953, 1786, 1868, 3564, 3565, 4037, 4436]"
      ]
     },
     "execution_count": 71,
     "metadata": {},
     "output_type": "execute_result"
    }
   ],
   "source": [
    "duplicates = netflix_df.duplicated(subset=['description'], keep = False)\n",
    "duplicates.index[duplicates == True].tolist()"
   ]
  },
  {
   "cell_type": "code",
   "execution_count": 81,
   "id": "24e7a2b5-ea74-4ebe-b123-ba79dcaca2c9",
   "metadata": {},
   "outputs": [
    {
     "name": "stdout",
     "output_type": "stream",
     "text": [
      "    show_id   type            title      director  \\\n",
      "848   s1287  Movie  Chashme Baddoor  David Dhawan   \n",
      "849   s1288  Movie  Chashme Buddoor  David Dhawan   \n",
      "\n",
      "                                                  cast country    date_added  \\\n",
      "848  Rishi Kapoor, Ali Zafar, Taapsee Pannu, Siddha...   India  July 5, 2020   \n",
      "849  Ali Zafar, Siddharth, Divyendu Sharma, Tapsee ...   India   May 1, 2017   \n",
      "\n",
      "     release_year  duration  \\\n",
      "848          2013       121   \n",
      "849          2013       121   \n",
      "\n",
      "                                           description     genre  \n",
      "848  When pretty new neighbor Seema falls for their...  Comedies  \n",
      "849  When pretty new neighbor Seema falls for their...  Comedies  \n"
     ]
    }
   ],
   "source": [
    "print(netflix_df[848:850])"
   ]
  },
  {
   "cell_type": "markdown",
   "id": "e4832f50-bf25-4be8-b7de-62cbd4408ee0",
   "metadata": {},
   "source": [
    "In the case of rows 848 and 849, the name of the movie, release_year, duration, and director are the same. The cast is the same but the names are in different order, and the movie was added twice, in 2020 and 2017."
   ]
  },
  {
   "cell_type": "code",
   "execution_count": 85,
   "id": "8fc499e1-a08a-4209-bcd0-23d94c31ada2",
   "metadata": {},
   "outputs": [
    {
     "name": "stdout",
     "output_type": "stream",
     "text": [
      "    show_id   type          title      director  \\\n",
      "952   s1486  Movie   Consequences  Ozan Açıktan   \n",
      "953   s1487  Movie  Consequences   Ozan Açıktan   \n",
      "\n",
      "                                                  cast country  \\\n",
      "952  Nehir Erdoğan, Tardu Flordun, İlker Kaleli, Se...  Turkey   \n",
      "953  Nehir Erdoğan, Tardu Flordun, İlker Kaleli, Se...  Turkey   \n",
      "\n",
      "           date_added  release_year  duration  \\\n",
      "952  October 25, 2019          2014       106   \n",
      "953  October 25, 2019          2014       106   \n",
      "\n",
      "                                           description   genre  \n",
      "952  Secrets bubble to the surface after a sensual ...  Dramas  \n",
      "953  Secrets bubble to the surface after a sensual ...  Dramas  \n"
     ]
    }
   ],
   "source": [
    "print(netflix_df[952:954])"
   ]
  },
  {
   "cell_type": "code",
   "execution_count": 109,
   "id": "50801c30-077a-4696-8b7e-0dafcf55bec6",
   "metadata": {},
   "outputs": [
    {
     "data": {
      "text/plain": [
       "show_id                                                     s5699\n",
       "type                                                        Movie\n",
       "title                                     Solo: A Star Wars Story\n",
       "director                                               Ron Howard\n",
       "cast            Alden Ehrenreich, Woody Harrelson, Emilia Clar...\n",
       "country                                             United States\n",
       "date_added                                        January 9, 2019\n",
       "release_year                                                 2018\n",
       "duration                                                      135\n",
       "description     A young Han Solo tries to settle an old score ...\n",
       "genre                                                      Action\n",
       "Name: 3564, dtype: object"
      ]
     },
     "metadata": {},
     "output_type": "display_data"
    },
    {
     "data": {
      "text/plain": [
       "show_id                                                     s5700\n",
       "type                                                        Movie\n",
       "title                   Solo: A Star Wars Story (Spanish Version)\n",
       "director                                               Ron Howard\n",
       "cast            Alden Ehrenreich, Woody Harrelson, Emilia Clar...\n",
       "country                                             United States\n",
       "date_added                                        January 9, 2019\n",
       "release_year                                                 2018\n",
       "duration                                                      135\n",
       "description     A young Han Solo tries to settle an old score ...\n",
       "genre                                                      Action\n",
       "Name: 3565, dtype: object"
      ]
     },
     "metadata": {},
     "output_type": "display_data"
    }
   ],
   "source": [
    "display(netflix_df.iloc[3564], netflix_df.iloc[3565])"
   ]
  },
  {
   "cell_type": "code",
   "execution_count": 127,
   "id": "3f883aab-f959-4cbe-bba0-b1d2eb2e14f6",
   "metadata": {},
   "outputs": [
    {
     "data": {
      "text/plain": [
       "show_id                                                     s6488\n",
       "type                                                        Movie\n",
       "title                                           The Incredibles 2\n",
       "director                                                Brad Bird\n",
       "cast            Craig T. Nelson, Holly Hunter, Samuel L. Jacks...\n",
       "country                                             United States\n",
       "date_added                                       January 30, 2019\n",
       "release_year                                                 2018\n",
       "duration                                                      118\n",
       "description     When Elastigirl gets recruited for a high-prof...\n",
       "genre                                                    Children\n",
       "Name: 4037, dtype: object"
      ]
     },
     "metadata": {},
     "output_type": "display_data"
    },
    {
     "data": {
      "text/plain": [
       "show_id                                                     s2986\n",
       "type                                                        Movie\n",
       "title                             Incredibles 2 (Spanish Version)\n",
       "director                                                Brad Bird\n",
       "cast            Víctor Trujillo, Consuelo Duval, Darío T. Pie,...\n",
       "country                                             United States\n",
       "date_added                                       February 8, 2019\n",
       "release_year                                                 2018\n",
       "duration                                                      118\n",
       "description     When Elastigirl gets recruited for a high-prof...\n",
       "genre                                                    Children\n",
       "Name: 1868, dtype: object"
      ]
     },
     "metadata": {},
     "output_type": "display_data"
    }
   ],
   "source": [
    "display(netflix_df.iloc[4037], netflix_df.iloc[1868])"
   ]
  },
  {
   "cell_type": "code",
   "execution_count": 125,
   "id": "6c1cc7d9-78c9-42e6-9706-af5c947933fa",
   "metadata": {
    "scrolled": true
   },
   "outputs": [
    {
     "name": "stdout",
     "output_type": "stream",
     "text": [
      "show_id                                                     s7130\n",
      "type                                                        Movie\n",
      "title                                       Together For Eternity\n",
      "director                                       Sooraj R. Barjatya\n",
      "cast            Salman Khan, Karisma Kapoor, Saif Ali Khan, Ta...\n",
      "country                                                     India\n",
      "date_added                                       February 1, 2020\n",
      "release_year                                                 1999\n",
      "duration                                                      176\n",
      "description     A scheming matriarch plots to cut off her disa...\n",
      "genre                                                      Dramas\n",
      "Name: 4436, dtype: object show_id                                                     s2861\n",
      "type                                                        Movie\n",
      "title                                        Hum Saath-Saath Hain\n",
      "director                                       Sooraj R. Barjatya\n",
      "cast            Salman Khan, Karisma Kapoor, Saif Ali Khan, Ta...\n",
      "country                                                     India\n",
      "date_added                                        January 1, 2018\n",
      "release_year                                                 1999\n",
      "duration                                                      176\n",
      "description     A scheming matriarch plots to cut off her disa...\n",
      "genre                                                      Dramas\n",
      "Name: 1786, dtype: object\n"
     ]
    }
   ],
   "source": [
    "print(netflix_df.iloc[4436], netflix_df.iloc[1786])"
   ]
  },
  {
   "cell_type": "markdown",
   "id": "4c979cd1-4a57-4a23-b518-fc97a5a08a6d",
   "metadata": {},
   "source": [
    "Looking at the data, we have 5 duplicated movies, although two of them (Solo: A Star Wars Story and Incredibles 2) are the Spanish and English versions of the movie. To answer the following questions: What is the most common duration of films from the 1990s?\n",
    "How many short action movies (with a runtime of less than 90 minutes) from the 1990s are in the dataset?, the duplicates should be removed."
   ]
  },
  {
   "cell_type": "code",
   "execution_count": 131,
   "id": "9d7f8ce3-cc58-463c-8abe-234d408fa327",
   "metadata": {},
   "outputs": [
    {
     "data": {
      "text/html": [
       "<div>\n",
       "<style scoped>\n",
       "    .dataframe tbody tr th:only-of-type {\n",
       "        vertical-align: middle;\n",
       "    }\n",
       "\n",
       "    .dataframe tbody tr th {\n",
       "        vertical-align: top;\n",
       "    }\n",
       "\n",
       "    .dataframe thead th {\n",
       "        text-align: right;\n",
       "    }\n",
       "</style>\n",
       "<table border=\"1\" class=\"dataframe\">\n",
       "  <thead>\n",
       "    <tr style=\"text-align: right;\">\n",
       "      <th></th>\n",
       "      <th>show_id</th>\n",
       "      <th>type</th>\n",
       "      <th>title</th>\n",
       "      <th>director</th>\n",
       "      <th>cast</th>\n",
       "      <th>country</th>\n",
       "      <th>date_added</th>\n",
       "      <th>release_year</th>\n",
       "      <th>duration</th>\n",
       "      <th>description</th>\n",
       "      <th>genre</th>\n",
       "    </tr>\n",
       "  </thead>\n",
       "  <tbody>\n",
       "    <tr>\n",
       "      <th>count</th>\n",
       "      <td>4807</td>\n",
       "      <td>4807</td>\n",
       "      <td>4807</td>\n",
       "      <td>4807</td>\n",
       "      <td>4807</td>\n",
       "      <td>4807</td>\n",
       "      <td>4807</td>\n",
       "      <td>4807.000000</td>\n",
       "      <td>4807.000000</td>\n",
       "      <td>4807</td>\n",
       "      <td>4807</td>\n",
       "    </tr>\n",
       "    <tr>\n",
       "      <th>unique</th>\n",
       "      <td>4807</td>\n",
       "      <td>2</td>\n",
       "      <td>4807</td>\n",
       "      <td>3615</td>\n",
       "      <td>4687</td>\n",
       "      <td>72</td>\n",
       "      <td>1292</td>\n",
       "      <td>NaN</td>\n",
       "      <td>NaN</td>\n",
       "      <td>4807</td>\n",
       "      <td>31</td>\n",
       "    </tr>\n",
       "    <tr>\n",
       "      <th>top</th>\n",
       "      <td>s2</td>\n",
       "      <td>Movie</td>\n",
       "      <td>7:19</td>\n",
       "      <td>Raúl Campos, Jan Suter</td>\n",
       "      <td>Samuel West</td>\n",
       "      <td>United States</td>\n",
       "      <td>January 1, 2020</td>\n",
       "      <td>NaN</td>\n",
       "      <td>NaN</td>\n",
       "      <td>After a devastating earthquake hits Mexico Cit...</td>\n",
       "      <td>Dramas</td>\n",
       "    </tr>\n",
       "    <tr>\n",
       "      <th>freq</th>\n",
       "      <td>1</td>\n",
       "      <td>4672</td>\n",
       "      <td>1</td>\n",
       "      <td>18</td>\n",
       "      <td>10</td>\n",
       "      <td>1884</td>\n",
       "      <td>100</td>\n",
       "      <td>NaN</td>\n",
       "      <td>NaN</td>\n",
       "      <td>1</td>\n",
       "      <td>1341</td>\n",
       "    </tr>\n",
       "    <tr>\n",
       "      <th>mean</th>\n",
       "      <td>NaN</td>\n",
       "      <td>NaN</td>\n",
       "      <td>NaN</td>\n",
       "      <td>NaN</td>\n",
       "      <td>NaN</td>\n",
       "      <td>NaN</td>\n",
       "      <td>NaN</td>\n",
       "      <td>2012.711879</td>\n",
       "      <td>99.533805</td>\n",
       "      <td>NaN</td>\n",
       "      <td>NaN</td>\n",
       "    </tr>\n",
       "    <tr>\n",
       "      <th>std</th>\n",
       "      <td>NaN</td>\n",
       "      <td>NaN</td>\n",
       "      <td>NaN</td>\n",
       "      <td>NaN</td>\n",
       "      <td>NaN</td>\n",
       "      <td>NaN</td>\n",
       "      <td>NaN</td>\n",
       "      <td>9.520243</td>\n",
       "      <td>30.878618</td>\n",
       "      <td>NaN</td>\n",
       "      <td>NaN</td>\n",
       "    </tr>\n",
       "    <tr>\n",
       "      <th>min</th>\n",
       "      <td>NaN</td>\n",
       "      <td>NaN</td>\n",
       "      <td>NaN</td>\n",
       "      <td>NaN</td>\n",
       "      <td>NaN</td>\n",
       "      <td>NaN</td>\n",
       "      <td>NaN</td>\n",
       "      <td>1942.000000</td>\n",
       "      <td>1.000000</td>\n",
       "      <td>NaN</td>\n",
       "      <td>NaN</td>\n",
       "    </tr>\n",
       "    <tr>\n",
       "      <th>25%</th>\n",
       "      <td>NaN</td>\n",
       "      <td>NaN</td>\n",
       "      <td>NaN</td>\n",
       "      <td>NaN</td>\n",
       "      <td>NaN</td>\n",
       "      <td>NaN</td>\n",
       "      <td>NaN</td>\n",
       "      <td>2011.000000</td>\n",
       "      <td>88.000000</td>\n",
       "      <td>NaN</td>\n",
       "      <td>NaN</td>\n",
       "    </tr>\n",
       "    <tr>\n",
       "      <th>50%</th>\n",
       "      <td>NaN</td>\n",
       "      <td>NaN</td>\n",
       "      <td>NaN</td>\n",
       "      <td>NaN</td>\n",
       "      <td>NaN</td>\n",
       "      <td>NaN</td>\n",
       "      <td>NaN</td>\n",
       "      <td>2016.000000</td>\n",
       "      <td>99.000000</td>\n",
       "      <td>NaN</td>\n",
       "      <td>NaN</td>\n",
       "    </tr>\n",
       "    <tr>\n",
       "      <th>75%</th>\n",
       "      <td>NaN</td>\n",
       "      <td>NaN</td>\n",
       "      <td>NaN</td>\n",
       "      <td>NaN</td>\n",
       "      <td>NaN</td>\n",
       "      <td>NaN</td>\n",
       "      <td>NaN</td>\n",
       "      <td>2018.000000</td>\n",
       "      <td>116.000000</td>\n",
       "      <td>NaN</td>\n",
       "      <td>NaN</td>\n",
       "    </tr>\n",
       "    <tr>\n",
       "      <th>max</th>\n",
       "      <td>NaN</td>\n",
       "      <td>NaN</td>\n",
       "      <td>NaN</td>\n",
       "      <td>NaN</td>\n",
       "      <td>NaN</td>\n",
       "      <td>NaN</td>\n",
       "      <td>NaN</td>\n",
       "      <td>2021.000000</td>\n",
       "      <td>253.000000</td>\n",
       "      <td>NaN</td>\n",
       "      <td>NaN</td>\n",
       "    </tr>\n",
       "  </tbody>\n",
       "</table>\n",
       "</div>"
      ],
      "text/plain": [
       "       show_id   type title                director         cast  \\\n",
       "count     4807   4807  4807                    4807         4807   \n",
       "unique    4807      2  4807                    3615         4687   \n",
       "top         s2  Movie  7:19  Raúl Campos, Jan Suter  Samuel West   \n",
       "freq         1   4672     1                      18           10   \n",
       "mean       NaN    NaN   NaN                     NaN          NaN   \n",
       "std        NaN    NaN   NaN                     NaN          NaN   \n",
       "min        NaN    NaN   NaN                     NaN          NaN   \n",
       "25%        NaN    NaN   NaN                     NaN          NaN   \n",
       "50%        NaN    NaN   NaN                     NaN          NaN   \n",
       "75%        NaN    NaN   NaN                     NaN          NaN   \n",
       "max        NaN    NaN   NaN                     NaN          NaN   \n",
       "\n",
       "              country       date_added  release_year     duration  \\\n",
       "count            4807             4807   4807.000000  4807.000000   \n",
       "unique             72             1292           NaN          NaN   \n",
       "top     United States  January 1, 2020           NaN          NaN   \n",
       "freq             1884              100           NaN          NaN   \n",
       "mean              NaN              NaN   2012.711879    99.533805   \n",
       "std               NaN              NaN      9.520243    30.878618   \n",
       "min               NaN              NaN   1942.000000     1.000000   \n",
       "25%               NaN              NaN   2011.000000    88.000000   \n",
       "50%               NaN              NaN   2016.000000    99.000000   \n",
       "75%               NaN              NaN   2018.000000   116.000000   \n",
       "max               NaN              NaN   2021.000000   253.000000   \n",
       "\n",
       "                                              description   genre  \n",
       "count                                                4807    4807  \n",
       "unique                                               4807      31  \n",
       "top     After a devastating earthquake hits Mexico Cit...  Dramas  \n",
       "freq                                                    1    1341  \n",
       "mean                                                  NaN     NaN  \n",
       "std                                                   NaN     NaN  \n",
       "min                                                   NaN     NaN  \n",
       "25%                                                   NaN     NaN  \n",
       "50%                                                   NaN     NaN  \n",
       "75%                                                   NaN     NaN  \n",
       "max                                                   NaN     NaN  "
      ]
     },
     "execution_count": 131,
     "metadata": {},
     "output_type": "execute_result"
    }
   ],
   "source": [
    "netflix_clean = netflix_df.drop_duplicates(subset=['description'])\n",
    "netflix_clean.describe(include='all')"
   ]
  },
  {
   "cell_type": "markdown",
   "id": "409e4932-b364-46bd-9a60-797605c21ab0",
   "metadata": {},
   "source": [
    "The data doesnt contain nulls or duplicates. "
   ]
  },
  {
   "cell_type": "code",
   "execution_count": 133,
   "id": "54699109-de2e-4caf-8a0e-6a8c4519dc36",
   "metadata": {},
   "outputs": [
    {
     "data": {
      "text/plain": [
       "show_id         object\n",
       "type            object\n",
       "title           object\n",
       "director        object\n",
       "cast            object\n",
       "country         object\n",
       "date_added      object\n",
       "release_year     int64\n",
       "duration         int64\n",
       "description     object\n",
       "genre           object\n",
       "dtype: object"
      ]
     },
     "execution_count": 133,
     "metadata": {},
     "output_type": "execute_result"
    }
   ],
   "source": [
    "netflix_clean.dtypes"
   ]
  },
  {
   "cell_type": "markdown",
   "id": "13f01113-53f7-4502-8d64-0d56f149af59",
   "metadata": {},
   "source": [
    "Checking all values in release_year are actually integers:"
   ]
  },
  {
   "cell_type": "code",
   "execution_count": 139,
   "id": "208505bd-d915-404f-b225-7b6114848b2d",
   "metadata": {},
   "outputs": [
    {
     "data": {
      "text/plain": [
       "True"
      ]
     },
     "execution_count": 139,
     "metadata": {},
     "output_type": "execute_result"
    }
   ],
   "source": [
    "(netflix_clean[\"release_year\"] % 1  == 0).all()"
   ]
  },
  {
   "cell_type": "markdown",
   "id": "4b8a6232-6b8b-44b3-be13-52f1e002e065",
   "metadata": {},
   "source": [
    "Selecting the movies from 1990 to 2000"
   ]
  },
  {
   "cell_type": "code",
   "execution_count": 145,
   "id": "e8a67a42-ed50-47d3-85a0-42da27e64296",
   "metadata": {},
   "outputs": [
    {
     "data": {
      "text/html": [
       "<div>\n",
       "<style scoped>\n",
       "    .dataframe tbody tr th:only-of-type {\n",
       "        vertical-align: middle;\n",
       "    }\n",
       "\n",
       "    .dataframe tbody tr th {\n",
       "        vertical-align: top;\n",
       "    }\n",
       "\n",
       "    .dataframe thead th {\n",
       "        text-align: right;\n",
       "    }\n",
       "</style>\n",
       "<table border=\"1\" class=\"dataframe\">\n",
       "  <thead>\n",
       "    <tr style=\"text-align: right;\">\n",
       "      <th></th>\n",
       "      <th>release_year</th>\n",
       "      <th>duration</th>\n",
       "    </tr>\n",
       "  </thead>\n",
       "  <tbody>\n",
       "    <tr>\n",
       "      <th>count</th>\n",
       "      <td>182.000000</td>\n",
       "      <td>182.000000</td>\n",
       "    </tr>\n",
       "    <tr>\n",
       "      <th>mean</th>\n",
       "      <td>1995.137363</td>\n",
       "      <td>114.785714</td>\n",
       "    </tr>\n",
       "    <tr>\n",
       "      <th>std</th>\n",
       "      <td>2.922163</td>\n",
       "      <td>32.982889</td>\n",
       "    </tr>\n",
       "    <tr>\n",
       "      <th>min</th>\n",
       "      <td>1990.000000</td>\n",
       "      <td>28.000000</td>\n",
       "    </tr>\n",
       "    <tr>\n",
       "      <th>25%</th>\n",
       "      <td>1993.000000</td>\n",
       "      <td>94.000000</td>\n",
       "    </tr>\n",
       "    <tr>\n",
       "      <th>50%</th>\n",
       "      <td>1996.000000</td>\n",
       "      <td>108.000000</td>\n",
       "    </tr>\n",
       "    <tr>\n",
       "      <th>75%</th>\n",
       "      <td>1998.000000</td>\n",
       "      <td>135.750000</td>\n",
       "    </tr>\n",
       "    <tr>\n",
       "      <th>max</th>\n",
       "      <td>1999.000000</td>\n",
       "      <td>195.000000</td>\n",
       "    </tr>\n",
       "  </tbody>\n",
       "</table>\n",
       "</div>"
      ],
      "text/plain": [
       "       release_year    duration\n",
       "count    182.000000  182.000000\n",
       "mean    1995.137363  114.785714\n",
       "std        2.922163   32.982889\n",
       "min     1990.000000   28.000000\n",
       "25%     1993.000000   94.000000\n",
       "50%     1996.000000  108.000000\n",
       "75%     1998.000000  135.750000\n",
       "max     1999.000000  195.000000"
      ]
     },
     "execution_count": 145,
     "metadata": {},
     "output_type": "execute_result"
    }
   ],
   "source": [
    "movies_netflix = netflix_clean[netflix_clean[\"type\"] == \"Movie\"]\n",
    "movies_90s = movies_netflix[movies_netflix[\"release_year\"] > 1989]\n",
    "movies_90s = movies_90s[movies_90s[\"release_year\"] < 2000]\n",
    "\n",
    "movies_90s.describe()"
   ]
  },
  {
   "cell_type": "markdown",
   "id": "d7e96559-8252-48ea-9031-845b2951a557",
   "metadata": {},
   "source": [
    "Selecting the duration of movies from the 90s and getting the most frequent duration with mode:"
   ]
  },
  {
   "cell_type": "code",
   "execution_count": 147,
   "id": "c9d6c633-3d1b-4257-9720-2f7413a17e63",
   "metadata": {},
   "outputs": [
    {
     "name": "stdout",
     "output_type": "stream",
     "text": [
      "   duration\n",
      "0        94\n"
     ]
    }
   ],
   "source": [
    "duration_movies_90s = movies_90s[[\"duration\"]]\n",
    "most_frequent_duration = duration_movies_90s.mode()\n",
    "print(most_frequent_duration)\n",
    "duration = 94"
   ]
  },
  {
   "cell_type": "markdown",
   "id": "71b8beaa-e480-4925-adcf-2ca7763c5854",
   "metadata": {},
   "source": [
    "Visualizing the distribution of movie durations in the 90s"
   ]
  },
  {
   "cell_type": "code",
   "execution_count": 149,
   "id": "34b3b516-e8d4-4e43-a020-16c7afb93d66",
   "metadata": {},
   "outputs": [
    {
     "data": {
      "image/png": "[encoded data removed]",
      "text/plain": [
       "<Figure size 640x480 with 1 Axes>"
      ]
     },
     "metadata": {},
     "output_type": "display_data"
    }
   ],
   "source": [
    "plt.hist(duration_movies_90s)\n",
    "plt.title(\"Distribution of Movie Durations in the 90s\")\n",
    "plt.xlabel(\"Duration(minutes)\")\n",
    "plt.ylabel(\"Number of Movies\")\n",
    "plt.show()"
   ]
  },
  {
   "cell_type": "markdown",
   "id": "dfa227ea-c07d-4cad-912c-4780f4de29e5",
   "metadata": {},
   "source": [
    "Selecting action movies from the 90s with a duration less than 90 min"
   ]
  },
  {
   "cell_type": "code",
   "execution_count": 153,
   "id": "4818758c-b340-4d8c-b44e-c6f64dab7e1f",
   "metadata": {},
   "outputs": [
    {
     "name": "stdout",
     "output_type": "stream",
     "text": [
      "7\n"
     ]
    }
   ],
   "source": [
    "action_movies = movies_90s[movies_90s[\"genre\"] == \"Action\"]\n",
    "short_movie_count = (action_movies[\"duration\"] < 90).sum()\n",
    "print(short_movie_count)"
   ]
  },
  {
   "cell_type": "markdown",
   "id": "9f0234b3-dc5e-4e1c-b32a-3f2ea063c8bd",
   "metadata": {},
   "source": []
  }
 ],
 "metadata": {
  "kernelspec": {
   "display_name": "Python 3 (ipykernel)",
   "language": "python",
   "name": "python3"
  },
  "language_info": {
   "codemirror_mode": {
    "name": "ipython",
    "version": 3
   },
   "file_extension": ".py",
   "mimetype": "text/x-python",
   "name": "python",
   "nbconvert_exporter": "python",
   "pygments_lexer": "ipython3",
   "version": "3.11.5"
  }
 },
 "nbformat": 4,
 "nbformat_minor": 5
}
